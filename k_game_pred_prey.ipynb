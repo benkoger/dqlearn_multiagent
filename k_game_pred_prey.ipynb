{
 "cells": [
  {
   "cell_type": "code",
   "execution_count": 1,
   "metadata": {
    "collapsed": false,
    "deletable": true,
    "editable": true
   },
   "outputs": [],
   "source": [
    "%load_ext autoreload\n",
    "%autoreload 2\n",
    "%matplotlib inline"
   ]
  },
  {
   "cell_type": "code",
   "execution_count": 2,
   "metadata": {
    "collapsed": false,
    "deletable": true,
    "editable": true
   },
   "outputs": [],
   "source": [
    "from __future__ import print_function\n",
    "\n",
    "import numpy as np\n",
    "import tempfile\n",
    "import tensorflow as tf\n",
    "\n",
    "from tf_rl.controller import DiscreteDeepQ, ModelController\n",
    "from tf_rl.simulation import KarpathyGame\n",
    "from tf_rl import simulate\n",
    "from tf_rl.models import MLP\n",
    "from collections import OrderedDict\n",
    "from euclid import Vector2\n"
   ]
  },
  {
   "cell_type": "code",
   "execution_count": 3,
   "metadata": {
    "collapsed": false,
    "deletable": true,
    "editable": true
   },
   "outputs": [
    {
     "name": "stdout",
     "output_type": "stream",
     "text": [
      "/var/folders/bl/qrhjk6_159n3pcdvx70pgjqc0000gn/T/tmpl8yrfE\n"
     ]
    }
   ],
   "source": [
    "LOG_DIR = tempfile.mkdtemp()\n",
    "print(LOG_DIR)"
   ]
  },
  {
   "cell_type": "code",
   "execution_count": 4,
   "metadata": {
    "collapsed": false,
    "deletable": true,
    "editable": true
   },
   "outputs": [],
   "source": [
    "current_settings = {\n",
    "    #earlier objects are eaten by later objects (pred eat prey)\n",
    "    'objects': [\n",
    "        'prey',\n",
    "        'pred',\n",
    "    ],\n",
    "    'colors': {\n",
    "        'prey': [212, 211, 208],\n",
    "        'pred':  [84, 37, 0],\n",
    "    },\n",
    "    'object_reward': {\n",
    "        'prey': {'prey': 0.1, 'pred': -0.1},\n",
    "        'pred': {'prey': 1.0, 'pred': -1.0}\n",
    "    },\n",
    "    'hero_bounces_off_walls': False,\n",
    "    'world_size': (700,500),   \n",
    "    \"maximum_velocity\":      {'prey': 50, 'pred': 50},\n",
    "    \"object_radius\": 10.0,\n",
    "    \"num_objects\": OrderedDict([('prey', 25), ('pred', 25)]),\n",
    "    \"num_objects_active\": OrderedDict([('prey', 2), ('pred', 0)]),\n",
    "    \"num_observation_lines\" : 32,\n",
    "    \"observation_line_length\": 120.,\n",
    "    \"tolerable_distance_to_wall\": 50,\n",
    "    \"wall_distance_penalty\":  -0.0,\n",
    "    \"delta_v\": 50\n",
    "}\n",
    "\n",
    "RUN = 'new'  #'new' to create new sim with values above\n",
    "             #'load' to load a previously trained graph\n",
    "num_steps = 759000\n",
    "\n",
    "save = False"
   ]
  },
  {
   "cell_type": "code",
   "execution_count": 5,
   "metadata": {
    "collapsed": false,
    "deletable": true,
    "editable": true,
    "scrolled": false
   },
   "outputs": [
    {
     "name": "stdout",
     "output_type": "stream",
     "text": [
      "('num_actions ', 5)\n",
      "[0, 1]\n"
     ]
    }
   ],
   "source": [
    "# create the game simulator\n",
    "g = KarpathyGame(current_settings)\n",
    "print(g.get_list(0))"
   ]
  },
  {
   "cell_type": "code",
   "execution_count": 6,
   "metadata": {
    "collapsed": false,
    "deletable": true,
    "editable": true,
    "scrolled": true
   },
   "outputs": [
    {
     "name": "stdout",
     "output_type": "stream",
     "text": [
      "INFO:tensorflow:Summary name prey/MLP/input_layer/W_0:0 is illegal; using prey/MLP/input_layer/W_0_0 instead.\n",
      "INFO:tensorflow:Summary name prey/MLP/input_layer/W_0:0/gradients is illegal; using prey/MLP/input_layer/W_0_0/gradients instead.\n",
      "INFO:tensorflow:Summary name prey/MLP/input_layer/b:0 is illegal; using prey/MLP/input_layer/b_0 instead.\n",
      "INFO:tensorflow:Summary name prey/MLP/input_layer/b:0/gradients is illegal; using prey/MLP/input_layer/b_0/gradients instead.\n",
      "INFO:tensorflow:Summary name prey/MLP/hidden_layer_0/W_0:0 is illegal; using prey/MLP/hidden_layer_0/W_0_0 instead.\n",
      "INFO:tensorflow:Summary name prey/MLP/hidden_layer_0/W_0:0/gradients is illegal; using prey/MLP/hidden_layer_0/W_0_0/gradients instead.\n",
      "INFO:tensorflow:Summary name prey/MLP/hidden_layer_0/b:0 is illegal; using prey/MLP/hidden_layer_0/b_0 instead.\n",
      "INFO:tensorflow:Summary name prey/MLP/hidden_layer_0/b:0/gradients is illegal; using prey/MLP/hidden_layer_0/b_0/gradients instead.\n",
      "INFO:tensorflow:Summary name prey/MLP/hidden_layer_1/W_0:0 is illegal; using prey/MLP/hidden_layer_1/W_0_0 instead.\n",
      "INFO:tensorflow:Summary name prey/MLP/hidden_layer_1/W_0:0/gradients is illegal; using prey/MLP/hidden_layer_1/W_0_0/gradients instead.\n",
      "INFO:tensorflow:Summary name prey/MLP/hidden_layer_1/b:0 is illegal; using prey/MLP/hidden_layer_1/b_0 instead.\n",
      "INFO:tensorflow:Summary name prey/MLP/hidden_layer_1/b:0/gradients is illegal; using prey/MLP/hidden_layer_1/b_0/gradients instead.\n",
      "INFO:tensorflow:Summary name prey/input_layer_copy/b:0 is illegal; using prey/input_layer_copy/b_0 instead.\n",
      "INFO:tensorflow:Summary name prey/input_layer_copy/W_0:0 is illegal; using prey/input_layer_copy/W_0_0 instead.\n",
      "INFO:tensorflow:Summary name prey/hidden_layer_0_copy/b:0 is illegal; using prey/hidden_layer_0_copy/b_0 instead.\n",
      "INFO:tensorflow:Summary name prey/hidden_layer_0_copy/W_0:0 is illegal; using prey/hidden_layer_0_copy/W_0_0 instead.\n",
      "INFO:tensorflow:Summary name prey/hidden_layer_1_copy/b:0 is illegal; using prey/hidden_layer_1_copy/b_0 instead.\n",
      "INFO:tensorflow:Summary name prey/hidden_layer_1_copy/W_0:0 is illegal; using prey/hidden_layer_1_copy/W_0_0 instead.\n",
      "controller [<tf_rl.controller.discrete_deepq.DiscreteDeepQ object at 0x118f93a50>]  pred num  25 prey num  25\n"
     ]
    }
   ],
   "source": [
    "\n",
    "journalist = tf.summary.FileWriter(LOG_DIR)\n",
    "\n",
    "tf.reset_default_graph()\n",
    "\n",
    "if RUN == 'new':\n",
    "\n",
    "    if current_settings['num_objects_active']['prey'] != 0:\n",
    "\n",
    "        with tf.variable_scope('prey'):\n",
    "            brain_prey = MLP([g.observation_size,], [300, 200, g.num_actions], \n",
    "                         [tf.tanh, tf.tanh, tf.identity])\n",
    "\n",
    "            # The optimizer to use. Here we use RMSProp as recommended\n",
    "            # by the publication\n",
    "            optimizer = tf.train.RMSPropOptimizer(learning_rate= 0.001, decay=0.9)\n",
    "\n",
    "            controller_prey = DiscreteDeepQ((g.observation_size,), g.num_actions,\n",
    "                                            brain_prey, optimizer, discount_rate=0.99, \n",
    "                                            exploration_period=5000, max_experience=10000, \n",
    "                                            store_every_nth=2, train_every_nth=4,\n",
    "                                            summary_writer=journalist)\n",
    "\n",
    "\n",
    "\n",
    "\n",
    "    if current_settings['num_objects_active']['pred'] != 0:\n",
    "        with tf.variable_scope('pred'):\n",
    "            brain_pred = MLP([g.observation_size,], [200, 200, g.num_actions], \n",
    "                         [tf.nn.relu, tf.nn.relu, tf.identity])\n",
    "\n",
    "            # The optimizer to use. Here we use RMSProp as recommended\n",
    "            # by the publication\n",
    "            optimizer = tf.train.RMSPropOptimizer(learning_rate= 0.001, decay=0.9)\n",
    "\n",
    "            # DiscreteDeepQ object\n",
    "            controller_pred = ModelController((g.observation_size,), g.num_actions, \n",
    "                                       discount_rate=0.99, exploration_period=1000, max_experience=10000, \n",
    "                                       store_every_nth=4, train_every_nth=4,\n",
    "                                       summary_writer=journalist)\n",
    "\n",
    "\n",
    "elif RUN == 'load':\n",
    "\n",
    "    if current_settings['num_objects']['prey'] != 0:\n",
    "        prey_controller_folder = 'saved_graphs'\n",
    "        if prey_controller_folder != 'none':\n",
    "            #with tf.variable_scope('prey'):\n",
    "                brain_prey = MLP([g.observation_size,], [200, 400, g.num_actions], \n",
    "                             [tf.tanh, tf.tanh, tf.identity])\n",
    "\n",
    "                # The optimizer to use. Here we use RMSProp as recommended\n",
    "                # by the publication\n",
    "                optimizer = tf.train.RMSPropOptimizer(learning_rate= 0.001, decay=0.9)\n",
    "\n",
    "                controller_prey = DiscreteDeepQ((g.observation_size,), g.num_actions, brain_prey, optimizer,\n",
    "                                           discount_rate=0.99, exploration_period=5000, max_experience=10000, \n",
    "                                           store_every_nth=2, train_every_nth=4,\n",
    "                                           summary_writer=journalist)\n",
    "                controller_prey.restore(prey_controller_folder, False, num_steps)\n",
    "    \n",
    "    if current_settings['num_objects']['pred'] != 0:\n",
    "        #with tf.variable_scope('pred'):\n",
    "\n",
    "            # DiscreteDeepQ object\n",
    "            controller_pred = ModelController((g.observation_size,), g.num_actions, \n",
    "                                       discount_rate=0.99, exploration_period=1000, max_experience=10000, \n",
    "                                       store_every_nth=4, train_every_nth=4,\n",
    "                                       summary_writer=journalist)           \n",
    "\n",
    "else:\n",
    "    raise NameError('set RUN variable to \\'new\\' or \\'load\\'')\n",
    "    \n",
    "if current_settings['num_objects_active']['pred'] == 0:\n",
    "    controller = [controller_prey]\n",
    "elif current_settings['num_objects_active']['prey'] == 0:\n",
    "    controller = [controller_pred]\n",
    "else:\n",
    "    controller = [controller_prey, controller_pred]\n",
    "\n",
    "print('controller', controller, ' pred num ', current_settings['num_objects']['pred'],\n",
    "     'prey num ', current_settings['num_objects']['prey'])\n"
   ]
  },
  {
   "cell_type": "code",
   "execution_count": null,
   "metadata": {
    "collapsed": false,
    "deletable": true,
    "editable": true,
    "scrolled": true
   },
   "outputs": [
    {
     "name": "stdout",
     "output_type": "stream",
     "text": [
      "34\n",
      "done in 0.609297037125 s\n"
     ]
    }
   ],
   "source": [
    "FPS          = 30\n",
    "ACTION_EVERY = 3\n",
    "    \n",
    "fast_mode = False\n",
    "if fast_mode:\n",
    "    WAIT, VISUALIZE_EVERY = False, 100\n",
    "else:\n",
    "    WAIT, VISUALIZE_EVERY = True, 1\n",
    "\n",
    "    \n",
    "try:\n",
    "    simulate(simulation=g,\n",
    "             controller=controller,\n",
    "             fps=FPS,\n",
    "             visualize_every=VISUALIZE_EVERY,\n",
    "             action_every=ACTION_EVERY,\n",
    "             wait=WAIT,\n",
    "             disable_training=False,\n",
    "             simulation_resolution=.001,\n",
    "             save_path=None)\n",
    "except KeyboardInterrupt:\n",
    "    print(\"Interrupted\")\n",
    "    g.shut_down_graphics()\n",
    "    print('graphics shut down')\n",
    "    for controller_instance in controller:\n",
    "        controller_instance.kill_session()\n",
    "    print('controller sessions shut down')\n",
    "        "
   ]
  },
  {
   "cell_type": "code",
   "execution_count": 12,
   "metadata": {
    "collapsed": false,
    "deletable": true,
    "editable": true
   },
   "outputs": [
    {
     "ename": "NameError",
     "evalue": "name 'session' is not defined",
     "output_type": "error",
     "traceback": [
      "\u001b[0;31m---------------------------------------------------------------------------\u001b[0m",
      "\u001b[0;31mNameError\u001b[0m                                 Traceback (most recent call last)",
      "\u001b[0;32m<ipython-input-12-e8116f5a7505>\u001b[0m in \u001b[0;36m<module>\u001b[0;34m()\u001b[0m\n\u001b[0;32m----> 1\u001b[0;31m \u001b[0msession\u001b[0m\u001b[0;34m.\u001b[0m\u001b[0mrun\u001b[0m\u001b[0;34m(\u001b[0m\u001b[0mcurrent_controller\u001b[0m\u001b[0;34m.\u001b[0m\u001b[0mtarget_network_update\u001b[0m\u001b[0;34m)\u001b[0m\u001b[0;34m\u001b[0m\u001b[0m\n\u001b[0m",
      "\u001b[0;31mNameError\u001b[0m: name 'session' is not defined"
     ]
    }
   ],
   "source": [
    "session.run(current_controller.target_network_update)"
   ]
  },
  {
   "cell_type": "code",
   "execution_count": 9,
   "metadata": {
    "collapsed": false,
    "deletable": true,
    "editable": true
   },
   "outputs": [
    {
     "ename": "NameError",
     "evalue": "name 'current_controller' is not defined",
     "output_type": "error",
     "traceback": [
      "\u001b[0;31m---------------------------------------------------------------------------\u001b[0m",
      "\u001b[0;31mNameError\u001b[0m                                 Traceback (most recent call last)",
      "\u001b[0;32m<ipython-input-9-9fb94b7fc5a7>\u001b[0m in \u001b[0;36m<module>\u001b[0;34m()\u001b[0m\n\u001b[0;32m----> 1\u001b[0;31m \u001b[0mcurrent_controller\u001b[0m\u001b[0;34m.\u001b[0m\u001b[0mq_network\u001b[0m\u001b[0;34m.\u001b[0m\u001b[0minput_layer\u001b[0m\u001b[0;34m.\u001b[0m\u001b[0mWs\u001b[0m\u001b[0;34m[\u001b[0m\u001b[0;36m0\u001b[0m\u001b[0;34m]\u001b[0m\u001b[0;34m.\u001b[0m\u001b[0meval\u001b[0m\u001b[0;34m(\u001b[0m\u001b[0;34m)\u001b[0m\u001b[0;34m\u001b[0m\u001b[0m\n\u001b[0m",
      "\u001b[0;31mNameError\u001b[0m: name 'current_controller' is not defined"
     ]
    }
   ],
   "source": [
    "current_controller.q_network.input_layer.Ws[0].eval()"
   ]
  },
  {
   "cell_type": "code",
   "execution_count": null,
   "metadata": {
    "collapsed": false,
    "deletable": true,
    "editable": true
   },
   "outputs": [],
   "source": [
    "current_controller.target_q_network.input_layer.Ws[0].eval()"
   ]
  },
  {
   "cell_type": "markdown",
   "metadata": {
    "deletable": true,
    "editable": true
   },
   "source": [
    "# Average Reward over time"
   ]
  },
  {
   "cell_type": "code",
   "execution_count": null,
   "metadata": {
    "collapsed": false,
    "deletable": true,
    "editable": true
   },
   "outputs": [],
   "source": [
    "g.plot_reward(smoothing=100)"
   ]
  },
  {
   "cell_type": "code",
   "execution_count": null,
   "metadata": {
    "collapsed": true,
    "deletable": true,
    "editable": true
   },
   "outputs": [],
   "source": [
    "session.run(current_controller.target_network_update)"
   ]
  },
  {
   "cell_type": "code",
   "execution_count": null,
   "metadata": {
    "collapsed": false,
    "deletable": true,
    "editable": true
   },
   "outputs": [],
   "source": [
    "current_controller.q_network.input_layer.Ws[0].eval()"
   ]
  },
  {
   "cell_type": "code",
   "execution_count": null,
   "metadata": {
    "collapsed": false,
    "deletable": true,
    "editable": true
   },
   "outputs": [],
   "source": [
    "current_controller.target_q_network.input_layer.Ws[0].eval()"
   ]
  },
  {
   "cell_type": "markdown",
   "metadata": {
    "deletable": true,
    "editable": true
   },
   "source": [
    "# Visualizing what the agent is seeing\n",
    "\n",
    "Starting with the ray pointing all the way right, we have one row per ray in clockwise order.\n",
    "The numbers for each ray are the following:\n",
    "- first three numbers are normalized distances to the closest visible (intersecting with the ray) object. If no object is visible then all of them are $1$. If there's many objects in sight, then only the closest one is visible. The numbers represent distance to friend, enemy and wall in order.\n",
    "- the last two numbers represent the speed of moving object (x and y components). Speed of wall is ... zero.\n",
    "\n",
    "Finally the last two numbers in the representation correspond to speed of the hero."
   ]
  },
  {
   "cell_type": "code",
   "execution_count": null,
   "metadata": {
    "collapsed": false,
    "deletable": true,
    "editable": true
   },
   "outputs": [],
   "source": [
    "g.__class__ = KarpathyGame\n",
    "np.set_printoptions(formatter={'float': (lambda x: '%.2f' % (x,))})\n",
    "x = g.observe()\n",
    "new_shape = (x[:-4].shape[0]//g.eye_observation_size, g.eye_observation_size)\n",
    "print(x[:-4].reshape(new_shape))\n",
    "print(x[-4:])\n",
    "g.to_html()"
   ]
  },
  {
   "cell_type": "code",
   "execution_count": 13,
   "metadata": {
    "collapsed": false,
    "deletable": true,
    "editable": true
   },
   "outputs": [
    {
     "data": {
      "text/plain": [
       "{'pred': {'pred': 0, 'prey': 1}, 'prey': {'pred': 0, 'prey': 0}}"
      ]
     },
     "execution_count": 13,
     "metadata": {},
     "output_type": "execute_result"
    }
   ],
   "source": [
    "x = {'prey':{'prey':0, 'pred':0},'pred':{'prey':0, 'pred':0}}\n",
    "x['pred']['prey'] = 1\n",
    "x"
   ]
  },
  {
   "cell_type": "code",
   "execution_count": 13,
   "metadata": {
    "collapsed": false,
    "deletable": true,
    "editable": true
   },
   "outputs": [
    {
     "name": "stdout",
     "output_type": "stream",
     "text": [
      "apple 4\n",
      "banana 3\n",
      "orange 2\n",
      "pear 1\n"
     ]
    }
   ],
   "source": [
    "import collections\n",
    "d = collections.OrderedDict()\n",
    "d['apple'] = 4\n",
    "x = collections.OrderedDict([('apple', 4), ('banana', 3), ('orange', 2), ('pear', 1)])\n",
    "for key, a in x.items():\n",
    "    print(key + ' ' + str(a))"
   ]
  },
  {
   "cell_type": "code",
   "execution_count": 10,
   "metadata": {
    "collapsed": false,
    "deletable": true,
    "editable": true
   },
   "outputs": [],
   "source": [
    "from tf_rl.controller import ModelController"
   ]
  },
  {
   "cell_type": "code",
   "execution_count": 12,
   "metadata": {
    "collapsed": true,
    "deletable": true,
    "editable": true
   },
   "outputs": [],
   "source": [
    "import random\n",
    "import numpy as np"
   ]
  },
  {
   "cell_type": "code",
   "execution_count": 14,
   "metadata": {
    "collapsed": false,
    "deletable": true,
    "editable": true
   },
   "outputs": [
    {
     "name": "stdout",
     "output_type": "stream",
     "text": [
      "1 1.55353514184\n",
      "2 -1.95956103972\n"
     ]
    }
   ],
   "source": [
    "speed    = np.random.uniform([-5,-5], [5,5]).astype(float)\n",
    "print('1' , speed[0])\n",
    "print('2', speed[1])\n"
   ]
  },
  {
   "cell_type": "code",
   "execution_count": 11,
   "metadata": {
    "collapsed": false,
    "deletable": true,
    "editable": true
   },
   "outputs": [
    {
     "data": {
      "text/plain": [
       "-74.999999999999986"
      ]
     },
     "execution_count": 11,
     "metadata": {},
     "output_type": "execute_result"
    }
   ],
   "source": [
    "(np.arctan2(1,0) + 11 * np.pi / 12.0) * 180 / np.pi"
   ]
  },
  {
   "cell_type": "code",
   "execution_count": 12,
   "metadata": {
    "collapsed": false,
    "deletable": true,
    "editable": true
   },
   "outputs": [
    {
     "data": {
      "text/plain": [
       "255.0"
      ]
     },
     "execution_count": 12,
     "metadata": {},
     "output_type": "execute_result"
    }
   ],
   "source": [
    "(np.arctan2(1,0) + 11 * np.pi / 12.0) * 180 / np.pi"
   ]
  },
  {
   "cell_type": "code",
   "execution_count": 13,
   "metadata": {
    "collapsed": false,
    "deletable": true,
    "editable": true
   },
   "outputs": [
    {
     "data": {
      "text/plain": [
       "array([ -75.,  -45.,  -15.,   15.,   45.,   75.,  105.,  135.,  165.,\n",
       "        195.,  225.])"
      ]
     },
     "execution_count": 13,
     "metadata": {},
     "output_type": "execute_result"
    }
   ],
   "source": [
    "np.linspace(\n",
    "                (-11 * np.pi / 12.0 + np.pi/2.0)* 180 / np.pi , \n",
    "                (11 * np.pi / 12.0+ np.pi/2.0)* 180 / np.pi ,\n",
    "                11,\n",
    "                endpoint=False)"
   ]
  },
  {
   "cell_type": "code",
   "execution_count": 10,
   "metadata": {
    "collapsed": false,
    "deletable": true,
    "editable": true
   },
   "outputs": [
    {
     "data": {
      "text/plain": [
       "dtype('float64')"
      ]
     },
     "execution_count": 10,
     "metadata": {},
     "output_type": "execute_result"
    }
   ],
   "source": [
    "x = np.int_(1)\n",
    "x = x.astype(float)\n",
    "x.dtype"
   ]
  },
  {
   "cell_type": "code",
   "execution_count": 8,
   "metadata": {
    "collapsed": false,
    "deletable": true,
    "editable": true
   },
   "outputs": [
    {
     "data": {
      "text/plain": [
       "208.43005853283253"
      ]
     },
     "execution_count": 8,
     "metadata": {},
     "output_type": "execute_result"
    }
   ],
   "source": [
    "from euclid import Circle, Point2, Vector2, LineSegment2\n",
    "import numpy as np\n",
    "x = Point2(391.11, 339.06)\n",
    "z = np.int_(3)\n",
    "y = Point2(460.84, 142.64)\n",
    "y0 = Point2(3, z)\n",
    "x.distance(y)"
   ]
  },
  {
   "cell_type": "code",
   "execution_count": 8,
   "metadata": {
    "collapsed": false,
    "deletable": true,
    "editable": true
   },
   "outputs": [
    {
     "name": "stdout",
     "output_type": "stream",
     "text": [
      "[ 0.45261216 -0.81603801 -0.21161796  1.71767867  0.53031474 -0.33406609\n",
      "  0.07414658  0.71746457 -0.79497665 -0.81216109]\n",
      "[ 0.05205382  0.1825629   0.61859673  0.13708994  0.92213231 -0.4189474\n",
      " -1.11779344  0.20065963  1.00620401  0.98354363  1.31322467 -0.68679833\n",
      " -0.73815197 -1.21130407  0.53206164 -0.35457915 -0.70935756 -0.15833597\n",
      " -0.17378537  1.6402905 ]\n",
      "[ 0.45261216 -0.81603801 -0.21161796  1.71767867  0.53031474 -0.33406609\n",
      "  0.07414658  0.71746457 -0.79497665 -0.81216109]\n",
      "[ 0.05205382  0.1825629   0.61859673  0.13708994  0.92213231 -0.4189474\n",
      " -1.11779344  0.20065963  1.00620401  0.98354363  1.31322467 -0.68679833\n",
      " -0.73815197 -1.21130407  0.53206164 -0.35457915 -0.70935756 -0.15833597\n",
      " -0.17378537  1.6402905 ]\n"
     ]
    }
   ],
   "source": [
    "\n",
    "\n",
    "w1 = tf.Variable(tf.truncated_normal(shape=[10]), name='w1')\n",
    "w2 = tf.Variable(tf.truncated_normal(shape=[20]), name='w2')\n",
    "tf.add_to_collection('vars', w1)\n",
    "tf.add_to_collection('vars', w2)\n",
    "saver = tf.train.Saver()\n",
    "sess = tf.Session()\n",
    "sess.run(tf.global_variables_initializer())\n",
    "saver.save(sess, 'my-model')\n",
    "# `save` method will call `export_meta_graph` implicitly.\n",
    "# you will get saved graph files:my-model.meta\n",
    "\n",
    "sess = tf.Session()\n",
    "new_saver = tf.train.import_meta_graph('my-model.meta')\n",
    "new_saver.restore(sess, tf.train.latest_checkpoint('./'))\n",
    "all_vars = tf.get_collection('vars')\n",
    "for v in all_vars:\n",
    "    v_ = sess.run(v)\n",
    "    print(v_)"
   ]
  },
  {
   "cell_type": "code",
   "execution_count": 15,
   "metadata": {
    "collapsed": false,
    "deletable": true,
    "editable": true
   },
   "outputs": [],
   "source": [
    "import numpy as np\n",
    "test = [None] * 2\n",
    "test[0] = np.ones(100)"
   ]
  },
  {
   "cell_type": "code",
   "execution_count": 16,
   "metadata": {
    "collapsed": false
   },
   "outputs": [
    {
     "name": "stdout",
     "output_type": "stream",
     "text": [
      "[array([ 1.,  1.,  1.,  1.,  1.,  1.,  1.,  1.,  1.,  1.,  1.,  1.,  1.,\n",
      "        1.,  1.,  1.,  1.,  1.,  1.,  1.,  1.,  1.,  1.,  1.,  1.,  1.,\n",
      "        1.,  1.,  1.,  1.,  1.,  1.,  1.,  1.,  1.,  1.,  1.,  1.,  1.,\n",
      "        1.,  1.,  1.,  1.,  1.,  1.,  1.,  1.,  1.,  1.,  1.,  1.,  1.,\n",
      "        1.,  1.,  1.,  1.,  1.,  1.,  1.,  1.,  1.,  1.,  1.,  1.,  1.,\n",
      "        1.,  1.,  1.,  1.,  1.,  1.,  1.,  1.,  1.,  1.,  1.,  1.,  1.,\n",
      "        1.,  1.,  1.,  1.,  1.,  1.,  1.,  1.,  1.,  1.,  1.,  1.,  1.,\n",
      "        1.,  1.,  1.,  1.,  1.,  1.,  1.,  1.,  1.]), None]\n"
     ]
    }
   ],
   "source": [
    "print(test\n",
    "     )"
   ]
  },
  {
   "cell_type": "code",
   "execution_count": 19,
   "metadata": {
    "collapsed": false
   },
   "outputs": [
    {
     "name": "stdout",
     "output_type": "stream",
     "text": [
      "True\n",
      "[ 1.  1.  1.  1.  1.  1.  1.  1.  1.  1.  1.  1.  1.  1.  1.  1.  1.  1.\n",
      "  1.  1.  1.  1.  1.  1.  1.  1.  1.  1.  1.  1.  1.  1.  1.  1.  1.  1.\n",
      "  1.  1.  1.  1.  1.  1.  1.  1.  1.  1.  1.  1.  1.  1.  1.  1.  1.  1.\n",
      "  1.  1.  1.  1.  1.  1.  1.  1.  1.  1.  1.  1.  1.  1.  1.  1.  1.  1.\n",
      "  1.  1.  1.  1.  1.  1.  1.  1.  1.  1.  1.  1.  1.  1.  1.  1.  1.  1.\n",
      "  1.  1.  1.  1.  1.  1.  1.  1.  1.  1.]\n"
     ]
    }
   ],
   "source": [
    "print(test[0] is not None)\n",
    "print(test[0])\n"
   ]
  },
  {
   "cell_type": "code",
   "execution_count": 38,
   "metadata": {
    "collapsed": false
   },
   "outputs": [
    {
     "name": "stdout",
     "output_type": "stream",
     "text": [
      "False\n"
     ]
    }
   ],
   "source": [
    "result = all(w!=None for w in test[1])\n",
    "print(result)\n"
   ]
  },
  {
   "cell_type": "code",
   "execution_count": 37,
   "metadata": {
    "collapsed": false
   },
   "outputs": [
    {
     "data": {
      "text/plain": [
       "True"
      ]
     },
     "execution_count": 37,
     "metadata": {},
     "output_type": "execute_result"
    }
   ],
   "source": [
    "result\n"
   ]
  },
  {
   "cell_type": "code",
   "execution_count": null,
   "metadata": {
    "collapsed": true
   },
   "outputs": [],
   "source": []
  }
 ],
 "metadata": {
  "kernelspec": {
   "display_name": "coding-py27",
   "language": "python",
   "name": "coding-py27"
  },
  "language_info": {
   "codemirror_mode": {
    "name": "ipython",
    "version": 2
   },
   "file_extension": ".py",
   "mimetype": "text/x-python",
   "name": "python",
   "nbconvert_exporter": "python",
   "pygments_lexer": "ipython2",
   "version": "2.7.13"
  }
 },
 "nbformat": 4,
 "nbformat_minor": 0
}
